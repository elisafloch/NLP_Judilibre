{
 "cells": [
  {
   "cell_type": "code",
   "execution_count": 24,
   "id": "979272d2",
   "metadata": {},
   "outputs": [],
   "source": [
    "import json\n",
    "import pandas as pd"
   ]
  },
  {
   "cell_type": "code",
   "execution_count": 56,
   "id": "61bd4448",
   "metadata": {},
   "outputs": [
    {
     "data": {
      "text/plain": [
       "1    [responsabilite delictuelle ou quasi delictuel...\n",
       "1    [accident de la circulation, indemnisation, of...\n",
       "Name: themes, dtype: object"
      ]
     },
     "execution_count": 56,
     "metadata": {},
     "output_type": "execute_result"
    }
   ],
   "source": [
    "# Ouvrir les deux fichiers JSON en lecture\n",
    "with open('response_1676987895100.json', 'r') as f1, open('response_1676987729923.json', 'r') as f2:\n",
    "    # Charger les données JSON dans des variables Python distinctes\n",
    "    data1 = json.load(f1)\n",
    "    data2 = json.load(f2)\n",
    "# Transformer les fichiers json en dataframes    \n",
    "df1 = pd.DataFrame(data1['results'])\n",
    "df2 = pd.DataFrame(data2['results'])\n",
    "\n",
    "# Concaténer les données en 1 seul dataframe \n",
    "df = pd.concat([df1,df2])\n",
    "df.head()\n",
    "df.columns\n",
    "# Choix des colonnes à conserver \n",
    "df.drop([\"source\", \"jurisdiction\", \"chamber\", \"number\", \"numbers\", \"ecli\", \"publication\", \"update_date\", \"type\", \"nac\", \"portalis\", \"files\", \"contested\", \"forward\", \"timeline\", \"partial\", \"visa\", \"rapprochements\", \"legacy\", \"formation\", \"decision_datetime\", \"update_datetime\", \"zones\"], axis = 1)\n",
    "\n"
   ]
  },
  {
   "cell_type": "code",
   "execution_count": null,
   "id": "7eedc182",
   "metadata": {},
   "outputs": [],
   "source": []
  }
 ],
 "metadata": {
  "kernelspec": {
   "display_name": "Python 3 (ipykernel)",
   "language": "python",
   "name": "python3"
  },
  "language_info": {
   "codemirror_mode": {
    "name": "ipython",
    "version": 3
   },
   "file_extension": ".py",
   "mimetype": "text/x-python",
   "name": "python",
   "nbconvert_exporter": "python",
   "pygments_lexer": "ipython3",
   "version": "3.9.7"
  }
 },
 "nbformat": 4,
 "nbformat_minor": 5
}
