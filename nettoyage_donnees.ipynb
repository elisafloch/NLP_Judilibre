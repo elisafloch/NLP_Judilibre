{
 "cells": [
  {
   "cell_type": "code",
   "execution_count": 6,
   "metadata": {},
   "outputs": [],
   "source": [
    "import json\n",
    "import pandas as pd\n",
    "import re\n",
    "import nltk\n",
    "import spacy\n",
    "import pandas as pd\n",
    "from nltk.corpus import stopwords"
   ]
  },
  {
   "cell_type": "code",
   "execution_count": 7,
   "metadata": {},
   "outputs": [],
   "source": [
    "#importation des donnees\n",
    "df = pd.read_csv('data_nlp.csv')\n",
    "\n",
    "# Remplacer les caractères de nouvelle ligne par des espaces vides\n",
    "df['text'] = df['text'].replace('\\n', '', regex=True)\n"
   ]
  },
  {
   "cell_type": "code",
   "execution_count": 8,
   "metadata": {},
   "outputs": [],
   "source": [
    "### NETTOYAGE REGEX\n",
    "def nettoyage_regex(text):\n",
    "    text = re.sub(r'http\\S+', '', text)  # Enlève les urls\n",
    "    text = re.sub(r'@\\S+', '', text)  # Enlève les nom d'utilisateurs\n",
    "    text = re.sub(r'#\\S+', '', text)  # Enlève les hashtags\n",
    "    \n",
    "    return text\n",
    "\n",
    "### TOKENISATION\n",
    "def tokenisation(text):\n",
    "    tokenizer = nltk.tokenize.WordPunctTokenizer()\n",
    "    tweet_tokens = [tokenizer.tokenize(text)]\n",
    "    return tweet_tokens[0]\n",
    "\n",
    "### STOP WORDS\n",
    "stop_words = stopwords.words('french')\n",
    "#stop_words.append(\"chatgpt\")\n",
    "#stop_words.append(\"chat\")\n",
    "#stop_words.append(\"gpt\")\n",
    "stop_words.append(\"avoir\")\n",
    "stop_words.append(\"être\")\n",
    "stop_words = set(stop_words)\n",
    "def stop_words_function(text):\n",
    "    return [w.lower() for w in text if not w.lower() in stop_words]\n",
    "\n",
    "## SUPPRESSION PONCTUATION\n",
    "def suppr_ponct(text):\n",
    "    return [token for token in text if token.isalnum()]\n",
    "\n",
    "### LEMMATISATION\n",
    "nlp = spacy.load('fr_core_news_md')\n",
    "def lemmatisation(text):\n",
    "    lem = []\n",
    "    for i in range(len(text)):\n",
    "        doc = nlp(text[i])\n",
    "        for token in doc:\n",
    "            lem.append(token.lemma_)\n",
    "    return lem\n",
    "\n",
    "def nettoyage(text):\n",
    "    text = nettoyage_regex(text)\n",
    "    text = tokenisation(text)\n",
    "    text = suppr_ponct(text)\n",
    "    #text = lemmatisation(text)\n",
    "    text = stop_words_function(text)\n",
    "    return text\n",
    "\n",
    "def nettoyage_phrase(text):\n",
    "    text = nettoyage_regex(text)\n",
    "    text = tokenisation(text)\n",
    "    return text"
   ]
  },
  {
   "cell_type": "code",
   "execution_count": 9,
   "metadata": {},
   "outputs": [],
   "source": [
    "# create an empty list to store the cleaned text\n",
    "cleaned_text = []\n",
    "# loop through all the rows in the 'text' column\n",
    "for text in df['text']:\n",
    "    # apply the 'nettoyage' function to clean the text\n",
    "    cleaned = nettoyage(text)\n",
    "    # add the cleaned text to the list\n",
    "    cleaned_text.append(cleaned)"
   ]
  },
  {
   "cell_type": "code",
   "execution_count": 12,
   "metadata": {},
   "outputs": [],
   "source": [
    "cleaned_text = [' '.join(words) for words in cleaned_text]\n",
    "cleaned_text_df = pd.DataFrame().assign(text=cleaned_text)\n",
    "\n",
    "cleaned_text_df.to_csv(\"cleaned_text.csv\")"
   ]
  }
 ],
 "metadata": {
  "kernelspec": {
   "display_name": "base",
   "language": "python",
   "name": "python3"
  },
  "language_info": {
   "codemirror_mode": {
    "name": "ipython",
    "version": 3
   },
   "file_extension": ".py",
   "mimetype": "text/x-python",
   "name": "python",
   "nbconvert_exporter": "python",
   "pygments_lexer": "ipython3",
   "version": "3.9.12"
  },
  "orig_nbformat": 4,
  "vscode": {
   "interpreter": {
    "hash": "9f0194299e911b6a22f0cd3d1c9a66c991d39f48b249be23f24104e40900e329"
   }
  }
 },
 "nbformat": 4,
 "nbformat_minor": 2
}
