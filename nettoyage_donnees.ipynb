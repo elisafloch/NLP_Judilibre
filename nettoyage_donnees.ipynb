{
 "cells": [
  {
   "cell_type": "code",
   "execution_count": 1,
   "metadata": {},
   "outputs": [
    {
     "name": "stderr",
     "output_type": "stream",
     "text": [
      "/anaconda/envs/pd39/lib/python3.9/site-packages/torch/cuda/__init__.py:546: UserWarning: Can't initialize NVML\n",
      "  warnings.warn(\"Can't initialize NVML\")\n"
     ]
    }
   ],
   "source": [
    "import json\n",
    "import pandas as pd\n",
    "import re\n",
    "import nltk\n",
    "import spacy\n",
    "import pandas as pd\n",
    "from nltk.corpus import stopwords\n",
    "from unidecode import unidecode"
   ]
  },
  {
   "cell_type": "code",
   "execution_count": 2,
   "metadata": {},
   "outputs": [],
   "source": [
    "#importation des donnees\n",
    "df = pd.read_csv('data_nlp.csv')\n",
    "\n",
    "# Remplacer les caractères de nouvelle ligne par des espaces vides\n",
    "df['text'] = df['text'].replace('\\n', '', regex=True)\n"
   ]
  },
  {
   "cell_type": "code",
   "execution_count": 12,
   "metadata": {},
   "outputs": [],
   "source": [
    "### NETTOYAGE REGEX\n",
    "def nettoyage_regex(text):\n",
    "    text = re.sub(r'\\d+', '', text)  # Enlève les chiffres\n",
    "    text = re.sub(r'\\b\\w\\b', '', text)  # Enleve les lettres isolées\n",
    "    return text\n",
    "\n",
    "### TOKENISATION\n",
    "def tokenisation(text):\n",
    "    tokenizer = nltk.tokenize.WordPunctTokenizer()\n",
    "    tweet_tokens = [tokenizer.tokenize(text)]\n",
    "    return tweet_tokens[0]\n",
    "\n",
    "### STOP WORDS\n",
    "stop_words = stopwords.words('french')\n",
    "new_stopwords = [\"avoir\", \"être\", \"article\", \"loi\", \"cour\", \"appel\", \"article\", \"code\",\n",
    "                \"chambre\", \"civile\", \"cassation\", \"procédure\", \"x\", \"y\", \"z\", \"mme\", \"mlle\",\n",
    "                \"janvier\", \"février\", \"mars\", \"avril\", \"mai\", \"juin\", \"juillet\", \"août\",\n",
    "                \"septembre\", \"octobre\", \"novembre\", \"décembre\", \"lundi\", \"mardi\",\n",
    "                \"mercredi\", \"jeudi\", \"vendredi\", \"samedi\", \"dimanche\",\"a\", \"e\", \"b\",\n",
    "                \"deuxième\", \"rendu\" ,\"arrêt\" ,\"suivant\" ,\"moyen\" ,\"unique\", \"selon\",\n",
    "                \"demande\" ,\"avis\", \"séance\" ,\"juridiction\", \"tribunal\" ,\"grande\" ,\"instance\",\n",
    "                \"nom\" ,\"peuple\" ,\"francais\" ,\"deuxieme\" , \"premier\",\"premiere\", \"première\", \"troisième\" ,\n",
    "                \"pourvoi\", \"pris\",\n",
    "                \"formé\", \"criminelle\", \"audience\", \"publique\", \"paris\", \"tenue\", \"palais\", \"justice\",\n",
    "                \"dont\", \"siège\", \"f\", \"r\"]\n",
    "stop_words.extend(new_stopwords)\n",
    "stop_words = set(stop_words)\n",
    "def stop_words_function(text):\n",
    "    return [w.lower() for w in text if not w.lower() in stop_words]\n",
    "\n",
    "## SUPPRESSION PONCTUATION\n",
    "def suppr_ponct(text):\n",
    "    return [token for token in text if token.isalnum()]\n",
    "\n",
    "## SUPPRESSION ACCENTS\n",
    "def suppr_accent(text):\n",
    "    return [unidecode(token) for token in text if token]\n",
    "\n",
    "\n",
    "### LEMMATISATION\n",
    "nlp = spacy.load('fr_core_news_md')\n",
    "def lemmatisation(text):\n",
    "    lem = []\n",
    "    for i in range(len(text)):\n",
    "        doc = nlp(text[i])\n",
    "        for token in doc:\n",
    "            lem.append(token.lemma_)\n",
    "    return lem\n",
    "\n",
    "def nettoyage(text):\n",
    "    text = nettoyage_regex(text)\n",
    "    text = tokenisation(text)\n",
    "    text = suppr_ponct(text)\n",
    "    #text = lemmatisation(text)\n",
    "    text = stop_words_function(text)\n",
    "    text = suppr_accent(text)\n",
    "    return text\n",
    "\n",
    "def nettoyage_phrase(text):\n",
    "    text = nettoyage_regex(text)\n",
    "    text = tokenisation(text)\n",
    "    return text"
   ]
  },
  {
   "cell_type": "code",
   "execution_count": 13,
   "metadata": {},
   "outputs": [],
   "source": [
    "# create an empty list to store the cleaned text\n",
    "cleaned_text = []\n",
    "# loop through all the rows in the 'text' column\n",
    "for text in df['text']:\n",
    "    # apply the 'nettoyage' function to clean the text\n",
    "    cleaned = nettoyage(text)\n",
    "    # add the cleaned text to the list\n",
    "    cleaned_text.append(cleaned)"
   ]
  },
  {
   "cell_type": "code",
   "execution_count": 14,
   "metadata": {},
   "outputs": [],
   "source": [
    "cleaned_text = [' '.join(words) for words in cleaned_text]\n",
    "cleaned_text_df = pd.DataFrame().assign(text=cleaned_text)\n",
    "\n",
    "cleaned_text_df.to_csv(\"cleaned_text2.csv\")"
   ]
  },
  {
   "cell_type": "code",
   "execution_count": 15,
   "metadata": {},
   "outputs": [],
   "source": [
    "# create an empty list to store the cleaned text\n",
    "cleaned_phrase = []\n",
    "# loop through all the rows in the 'text' column\n",
    "for text in df['text']:\n",
    "    # apply the 'nettoyage' function to clean the text\n",
    "    cleaned = nettoyage_phrase(text)\n",
    "    # add the cleaned text to the list\n",
    "    cleaned_phrase.append(cleaned)"
   ]
  },
  {
   "cell_type": "code",
   "execution_count": 16,
   "metadata": {},
   "outputs": [],
   "source": [
    "# phrases\n",
    "cleaned_phrase = [' '.join(words) for words in cleaned_phrase]\n",
    "cleaned_phrase_df = pd.DataFrame().assign(text=cleaned_phrase)\n",
    "\n",
    "cleaned_phrase_df.to_csv(\"cleaned_phrase2.csv\")"
   ]
  }
 ],
 "metadata": {
  "kernelspec": {
   "display_name": "pd39",
   "language": "python",
   "name": "python3"
  },
  "language_info": {
   "codemirror_mode": {
    "name": "ipython",
    "version": 3
   },
   "file_extension": ".py",
   "mimetype": "text/x-python",
   "name": "python",
   "nbconvert_exporter": "python",
   "pygments_lexer": "ipython3",
   "version": "3.9.16"
  }
 },
 "nbformat": 4,
 "nbformat_minor": 2
}
