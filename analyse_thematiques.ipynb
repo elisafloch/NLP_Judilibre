{
 "cells": [
  {
   "cell_type": "code",
   "execution_count": 1,
   "metadata": {},
   "outputs": [],
   "source": [
    "# Importation library\n",
    "import gensim\n",
    "from gensim import corpora\n",
    "from gensim.models import LdaModel\n",
    "import pandas as pd\n",
    "import nltk\n",
    "\n",
    "\n",
    "from nltk.tokenize import word_tokenize\n",
    "from nltk.corpus import stopwords\n",
    "from nltk.stem import WordNetLemmatizer"
   ]
  },
  {
   "cell_type": "code",
   "execution_count": 5,
   "metadata": {},
   "outputs": [],
   "source": [
    "# Importation données\n",
    "deci_jur = pd.read_csv(\"cleaned_text.csv\",  encoding = \"utf-8\")\n",
    "\n",
    "# Suppresion des valeurs manquantes\n",
    "deci_jur = deci_jur.dropna()\n",
    "deci_jur = deci_jur.reset_index(drop=True)"
   ]
  },
  {
   "cell_type": "code",
   "execution_count": 9,
   "metadata": {},
   "outputs": [],
   "source": [
    "# Création de la liste des tweets\n",
    "list_deci_jur = []\n",
    "for i in range(len(deci_jur)):\n",
    "   list_deci_jur.append(str(deci_jur.iloc[i, 0]).split())\n"
   ]
  },
  {
   "cell_type": "code",
   "execution_count": 10,
   "metadata": {},
   "outputs": [
    {
     "name": "stdout",
     "output_type": "stream",
     "text": [
      "Group :  (0, '0.002*\"922\" + 0.002*\"967\" + 0.002*\"913\" + 0.002*\"958\" + 0.002*\"961\"')\n",
      "Group :  (1, '0.002*\"996\" + 0.002*\"978\" + 0.002*\"981\" + 0.002*\"923\" + 0.002*\"999\"')\n",
      "Group :  (2, '0.002*\"907\" + 0.002*\"906\" + 0.002*\"921\" + 0.002*\"942\" + 0.002*\"968\"')\n"
     ]
    }
   ],
   "source": [
    "# Pré-traitement des données\n",
    "dictionary = corpora.Dictionary(list_deci_jur)\n",
    "\n",
    "corpus = [dictionary.doc2bow(text) for text in list_deci_jur]\n",
    "\n",
    "# Entraînement du modèle LDA\n",
    "lda_model = LdaModel(corpus=corpus, id2word=dictionary, num_topics=3, random_state=100,\n",
    "                     update_every=1, chunksize=100, passes=10, alpha='auto', per_word_topics=True)\n",
    "\n",
    "# Afficher les thèmes générés par le modèle LDA\n",
    "topics = lda_model.print_topics(num_words=5)\n",
    "for topic in topics:\n",
    "    print(\"Group : \", topic)\n"
   ]
  }
 ],
 "metadata": {
  "kernelspec": {
   "display_name": "base",
   "language": "python",
   "name": "python3"
  },
  "language_info": {
   "codemirror_mode": {
    "name": "ipython",
    "version": 3
   },
   "file_extension": ".py",
   "mimetype": "text/x-python",
   "name": "python",
   "nbconvert_exporter": "python",
   "pygments_lexer": "ipython3",
   "version": "3.9.12"
  },
  "orig_nbformat": 4,
  "vscode": {
   "interpreter": {
    "hash": "9f0194299e911b6a22f0cd3d1c9a66c991d39f48b249be23f24104e40900e329"
   }
  }
 },
 "nbformat": 4,
 "nbformat_minor": 2
}
